{
 "cells": [
  {
   "cell_type": "code",
   "execution_count": 42,
   "id": "aded9e0d",
   "metadata": {},
   "outputs": [
    {
     "name": "stdout",
     "output_type": "stream",
     "text": [
      "C:\\Users\\hp\\Desktop\\MyProjects\n"
     ]
    }
   ],
   "source": [
    "import numpy as np\n",
    "import pandas as pd\n",
    "import scipy.stats as stats\n",
    "\n",
    "import matplotlib.pyplot as plt\n",
    "%matplotlib inline\n",
    "import math\n",
    "\n",
    "import os\n",
    "\n",
    "cwd = os.getcwd()  \n",
    "print(cwd)"
   ]
  },
  {
   "cell_type": "code",
   "execution_count": 43,
   "id": "e6d83bed",
   "metadata": {},
   "outputs": [
    {
     "data": {
      "text/html": [
       "<div>\n",
       "<style scoped>\n",
       "    .dataframe tbody tr th:only-of-type {\n",
       "        vertical-align: middle;\n",
       "    }\n",
       "\n",
       "    .dataframe tbody tr th {\n",
       "        vertical-align: top;\n",
       "    }\n",
       "\n",
       "    .dataframe thead th {\n",
       "        text-align: right;\n",
       "    }\n",
       "</style>\n",
       "<table border=\"1\" class=\"dataframe\">\n",
       "  <thead>\n",
       "    <tr style=\"text-align: right;\">\n",
       "      <th></th>\n",
       "      <th>CustID</th>\n",
       "      <th>Gender</th>\n",
       "      <th>spending_before_marriage</th>\n",
       "      <th>spending_after_marriage</th>\n",
       "    </tr>\n",
       "  </thead>\n",
       "  <tbody>\n",
       "    <tr>\n",
       "      <th>0</th>\n",
       "      <td>1</td>\n",
       "      <td>1</td>\n",
       "      <td>18</td>\n",
       "      <td>25</td>\n",
       "    </tr>\n",
       "    <tr>\n",
       "      <th>1</th>\n",
       "      <td>2</td>\n",
       "      <td>2</td>\n",
       "      <td>54</td>\n",
       "      <td>23</td>\n",
       "    </tr>\n",
       "    <tr>\n",
       "      <th>2</th>\n",
       "      <td>3</td>\n",
       "      <td>2</td>\n",
       "      <td>30</td>\n",
       "      <td>15</td>\n",
       "    </tr>\n",
       "    <tr>\n",
       "      <th>3</th>\n",
       "      <td>4</td>\n",
       "      <td>1</td>\n",
       "      <td>78</td>\n",
       "      <td>38</td>\n",
       "    </tr>\n",
       "    <tr>\n",
       "      <th>4</th>\n",
       "      <td>5</td>\n",
       "      <td>2</td>\n",
       "      <td>14</td>\n",
       "      <td>48</td>\n",
       "    </tr>\n",
       "  </tbody>\n",
       "</table>\n",
       "</div>"
      ],
      "text/plain": [
       "   CustID  Gender  spending_before_marriage  spending_after_marriage\n",
       "0       1       1                        18                       25\n",
       "1       2       2                        54                       23\n",
       "2       3       2                        30                       15\n",
       "3       4       1                        78                       38\n",
       "4       5       2                        14                       48"
      ]
     },
     "execution_count": 43,
     "metadata": {},
     "output_type": "execute_result"
    }
   ],
   "source": [
    "cust=pd.read_excel(\"C:\\\\Users\\\\hp\\\\Desktop\\\\MyProjects\\\\input2.xlsx\")\n",
    "cust.head(5)\n",
    "# cust.shape"
   ]
  },
  {
   "cell_type": "code",
   "execution_count": 44,
   "id": "367f2a1b",
   "metadata": {},
   "outputs": [
    {
     "data": {
      "text/plain": [
       "Index(['CustID', 'Gender', 'spending_before_marriage',\n",
       "       'spending_after_marriage'],\n",
       "      dtype='object')"
      ]
     },
     "execution_count": 44,
     "metadata": {},
     "output_type": "execute_result"
    }
   ],
   "source": [
    "cust.columns"
   ]
  },
  {
   "cell_type": "code",
   "execution_count": 46,
   "id": "f1bbff2b",
   "metadata": {},
   "outputs": [
    {
     "data": {
      "text/plain": [
       "Ttest_indResult(statistic=-0.14343077039114818, pvalue=0.8861262772465583)"
      ]
     },
     "execution_count": 46,
     "metadata": {},
     "output_type": "execute_result"
    }
   ],
   "source": [
    "from scipy.stats import ttest_ind\n",
    "# ttest_ind(cust.Gender[cust.Gender == 1],cust.Gender[cust.Gender == 2], equal_var=True)\n",
    "# stats.ttest_rel(a=cust.spending before marriage,\n",
    "#                 b=cust.spending after marriage) \n",
    "stats.ttest_ind(a= cust.spending_before_marriage,\n",
    "                b= cust.spending_after_marriage,\n",
    "                equal_var=False)\n",
    "# cust.columns\n",
    "# stats.ttest_ind(a= Males_spend,\n",
    "#                 b= FeMales_spend,\n",
    "#                 equal_var=False) "
   ]
  },
  {
   "cell_type": "code",
   "execution_count": 47,
   "id": "d873d586",
   "metadata": {},
   "outputs": [
    {
     "data": {
      "text/plain": [
       "Ttest_indResult(statistic=-0.14343077039114818, pvalue=0.8861260656647514)"
      ]
     },
     "execution_count": 47,
     "metadata": {},
     "output_type": "execute_result"
    }
   ],
   "source": [
    "stats.ttest_ind(a= cust.spending_before_marriage,\n",
    "                b= cust.spending_after_marriage,\n",
    "                equal_var=True)"
   ]
  }
 ],
 "metadata": {
  "kernelspec": {
   "display_name": "Python 3 (ipykernel)",
   "language": "python",
   "name": "python3"
  },
  "language_info": {
   "codemirror_mode": {
    "name": "ipython",
    "version": 3
   },
   "file_extension": ".py",
   "mimetype": "text/x-python",
   "name": "python",
   "nbconvert_exporter": "python",
   "pygments_lexer": "ipython3",
   "version": "3.9.7"
  }
 },
 "nbformat": 4,
 "nbformat_minor": 5
}
