{
 "cells": [
  {
   "cell_type": "code",
   "execution_count": 7,
   "id": "aded9e0d",
   "metadata": {},
   "outputs": [
    {
     "name": "stdout",
     "output_type": "stream",
     "text": [
      "C:\\Users\\hp\\Desktop\\MyProjects\n"
     ]
    }
   ],
   "source": [
    "import numpy as np\n",
    "import pandas as pd\n",
    "import scipy.stats as stats\n",
    "\n",
    "import matplotlib.pyplot as plt\n",
    "%matplotlib inline\n",
    "import math\n",
    "\n",
    "import os\n",
    "\n",
    "cwd = os.getcwd()  \n",
    "print(cwd)"
   ]
  },
  {
   "cell_type": "code",
   "execution_count": 20,
   "id": "e6d83bed",
   "metadata": {},
   "outputs": [
    {
     "data": {
      "text/html": [
       "<div>\n",
       "<style scoped>\n",
       "    .dataframe tbody tr th:only-of-type {\n",
       "        vertical-align: middle;\n",
       "    }\n",
       "\n",
       "    .dataframe tbody tr th {\n",
       "        vertical-align: top;\n",
       "    }\n",
       "\n",
       "    .dataframe thead th {\n",
       "        text-align: right;\n",
       "    }\n",
       "</style>\n",
       "<table border=\"1\" class=\"dataframe\">\n",
       "  <thead>\n",
       "    <tr style=\"text-align: right;\">\n",
       "      <th></th>\n",
       "      <th>CustID</th>\n",
       "      <th>Gender</th>\n",
       "      <th>spending</th>\n",
       "    </tr>\n",
       "  </thead>\n",
       "  <tbody>\n",
       "    <tr>\n",
       "      <th>0</th>\n",
       "      <td>1</td>\n",
       "      <td>1</td>\n",
       "      <td>18</td>\n",
       "    </tr>\n",
       "    <tr>\n",
       "      <th>1</th>\n",
       "      <td>2</td>\n",
       "      <td>2</td>\n",
       "      <td>54</td>\n",
       "    </tr>\n",
       "    <tr>\n",
       "      <th>2</th>\n",
       "      <td>3</td>\n",
       "      <td>2</td>\n",
       "      <td>30</td>\n",
       "    </tr>\n",
       "    <tr>\n",
       "      <th>3</th>\n",
       "      <td>4</td>\n",
       "      <td>1</td>\n",
       "      <td>78</td>\n",
       "    </tr>\n",
       "    <tr>\n",
       "      <th>4</th>\n",
       "      <td>5</td>\n",
       "      <td>2</td>\n",
       "      <td>14</td>\n",
       "    </tr>\n",
       "  </tbody>\n",
       "</table>\n",
       "</div>"
      ],
      "text/plain": [
       "   CustID  Gender  spending\n",
       "0       1       1        18\n",
       "1       2       2        54\n",
       "2       3       2        30\n",
       "3       4       1        78\n",
       "4       5       2        14"
      ]
     },
     "execution_count": 20,
     "metadata": {},
     "output_type": "execute_result"
    }
   ],
   "source": [
    "cust=pd.read_excel(\"C:\\\\Users\\\\hp\\\\Desktop\\\\MyProjects\\\\input1.xlsx\")\n",
    "cust.head(5)\n",
    "# cust.shape"
   ]
  },
  {
   "cell_type": "code",
   "execution_count": 21,
   "id": "367f2a1b",
   "metadata": {},
   "outputs": [
    {
     "data": {
      "text/plain": [
       "Index(['CustID', 'Gender', 'spending'], dtype='object')"
      ]
     },
     "execution_count": 21,
     "metadata": {},
     "output_type": "execute_result"
    }
   ],
   "source": [
    "cust.columns"
   ]
  },
  {
   "cell_type": "code",
   "execution_count": 22,
   "id": "146e9046",
   "metadata": {},
   "outputs": [],
   "source": [
    "Males_spend = cust.spending[cust.Gender==1]\n",
    "FeMales_spend = cust.spending[cust.Gender==2]"
   ]
  },
  {
   "cell_type": "code",
   "execution_count": 23,
   "id": "cb74d88e",
   "metadata": {},
   "outputs": [
    {
     "name": "stdout",
     "output_type": "stream",
     "text": [
      "1    54\n",
      "2    30\n",
      "4    14\n",
      "Name: spending, dtype: int64\n",
      "0     18\n",
      "3     78\n",
      "11    47\n",
      "Name: spending, dtype: int64\n"
     ]
    }
   ],
   "source": [
    "print (FeMales_spend.head(3))\n",
    "print (Males_spend.head(3))"
   ]
  },
  {
   "cell_type": "code",
   "execution_count": 24,
   "id": "c0cf290b",
   "metadata": {},
   "outputs": [
    {
     "name": "stdout",
     "output_type": "stream",
     "text": [
      "32.575\n",
      "28.13953488372093\n"
     ]
    }
   ],
   "source": [
    "print (Males_spend.mean())\n",
    "print (FeMales_spend.mean())"
   ]
  },
  {
   "cell_type": "code",
   "execution_count": 25,
   "id": "f1bbff2b",
   "metadata": {},
   "outputs": [
    {
     "data": {
      "text/plain": [
       "Ttest_indResult(statistic=1.672994110687672, pvalue=0.09849604776250198)"
      ]
     },
     "execution_count": 25,
     "metadata": {},
     "output_type": "execute_result"
    }
   ],
   "source": [
    "stats.ttest_ind(a= Males_spend,\n",
    "                b= FeMales_spend,\n",
    "                equal_var=False)    # Assume samples have equal variance?"
   ]
  },
  {
   "cell_type": "code",
   "execution_count": 26,
   "id": "d873d586",
   "metadata": {},
   "outputs": [
    {
     "data": {
      "text/plain": [
       "Ttest_indResult(statistic=1.6860134034273309, pvalue=0.09564177966526306)"
      ]
     },
     "execution_count": 26,
     "metadata": {},
     "output_type": "execute_result"
    }
   ],
   "source": [
    "stats.ttest_ind(a= Males_spend,\n",
    "                b= FeMales_spend,\n",
    "                equal_var=True)    # Assume samples have equal variance?"
   ]
  }
 ],
 "metadata": {
  "kernelspec": {
   "display_name": "Python 3 (ipykernel)",
   "language": "python",
   "name": "python3"
  },
  "language_info": {
   "codemirror_mode": {
    "name": "ipython",
    "version": 3
   },
   "file_extension": ".py",
   "mimetype": "text/x-python",
   "name": "python",
   "nbconvert_exporter": "python",
   "pygments_lexer": "ipython3",
   "version": "3.9.7"
  }
 },
 "nbformat": 4,
 "nbformat_minor": 5
}
